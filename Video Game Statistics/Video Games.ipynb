{
 "cells": [
  {
   "cell_type": "code",
   "execution_count": 1,
   "id": "a4be25be",
   "metadata": {},
   "outputs": [],
   "source": [
    "import pandas as pd\n",
    "from pathlib import Path\n",
    "\n",
    "game_faqs_csv = Path(\"Resources/gamefaqs_rankings_feb_2023.csv\")\n",
    "sales_csv = Path(\"Resources/vgsales.csv\")"
   ]
  },
  {
   "cell_type": "code",
   "execution_count": null,
   "id": "b728877b",
   "metadata": {},
   "outputs": [],
   "source": [
    "df = pd.merge(game_faqs_csv, sales_csv, on=\"Mouse ID\", how=\"left\")"
   ]
  }
 ],
 "metadata": {
  "kernelspec": {
   "display_name": "Python 3 (ipykernel)",
   "language": "python",
   "name": "python3"
  },
  "language_info": {
   "codemirror_mode": {
    "name": "ipython",
    "version": 3
   },
   "file_extension": ".py",
   "mimetype": "text/x-python",
   "name": "python",
   "nbconvert_exporter": "python",
   "pygments_lexer": "ipython3",
   "version": "3.10.9"
  }
 },
 "nbformat": 4,
 "nbformat_minor": 5
}
