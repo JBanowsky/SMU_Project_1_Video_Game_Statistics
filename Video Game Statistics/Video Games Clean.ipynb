{
 "cells": [
  {
   "cell_type": "code",
   "execution_count": 42,
   "id": "a4be25be",
   "metadata": {},
   "outputs": [],
   "source": [
    "# Dependencies and Setup\n",
    "import matplotlib.pyplot as plt\n",
    "from matplotlib.colors import LinearSegmentedColormap\n",
    "from matplotlib.markers import MarkerStyle\n",
    "import pandas as pd\n",
    "import scipy.stats as st\n",
    "from scipy.stats import linregress\n",
    "import numpy as np\n",
    "from pathlib import Path\n",
    "import seaborn as sns\n",
    "import statsmodels.api as sm\n",
    "\n",
    "# File to Load (Remember to Change These)\n",
    "sales_csv = Path(\"Resources/vgsales.csv\")\n",
    "\n",
    "# Read School and Student Data File and store into Pandas DataFrames\n",
    "sales_data = pd.read_csv(sales_csv)"
   ]
  },
  {
   "cell_type": "code",
   "execution_count": 43,
   "id": "0e599355",
   "metadata": {},
   "outputs": [],
   "source": [
    "sales_data = sales_data.drop(columns=\"Rank\")"
   ]
  },
  {
   "cell_type": "code",
   "execution_count": 44,
   "id": "18a57a9e",
   "metadata": {},
   "outputs": [],
   "source": [
    "#Establish console maker\n",
    "sales_data['Platform Company'] = sales_data['Platform']"
   ]
  },
  {
   "cell_type": "code",
   "execution_count": 45,
   "id": "74abd451",
   "metadata": {},
   "outputs": [
    {
     "data": {
      "text/plain": [
       "array(['Nintendo', 'Microsoft', 'Sony', 'PC', 'Atari', 'Sega', 'BANDAI',\n",
       "       'SNK', 'NEC', '3DO'], dtype=object)"
      ]
     },
     "execution_count": 45,
     "metadata": {},
     "output_type": "execute_result"
    }
   ],
   "source": [
    "sales_data[\"Platform Company\"] = sales_data[\"Platform Company\"].replace([\"N64\",\"GC\",\"Wii\",\"WiiU\",\"NES\",\"GB\",\"DS\",\"SNES\",\"GBA\",\"3DS\"],\"Nintendo\")\n",
    "sales_data[\"Platform Company\"] = sales_data[\"Platform Company\"].replace([\"PS\",\"PS2\",\"PS3\",\"PSV\",\"PSP\",\"PS4\"],\"Sony\")\n",
    "sales_data[\"Platform Company\"] = sales_data[\"Platform Company\"].replace([\"XOne\",\"XB\",\"X360\"],\"Microsoft\")\n",
    "sales_data[\"Platform Company\"] = sales_data[\"Platform Company\"].replace([\"GG\",\"SAT\",\"Sega\",\"GEN\",\"SCD\",\"DC\"],\"Sega\")\n",
    "sales_data[\"Platform Company\"] = sales_data[\"Platform Company\"].replace([\"2600\"],\"Atari\")\n",
    "sales_data[\"Platform Company\"] = sales_data[\"Platform Company\"].replace([\"WS\"],\"BANDAI\")\n",
    "sales_data[\"Platform Company\"] = sales_data[\"Platform Company\"].replace([\"NG\"],\"SNK\")\n",
    "sales_data[\"Platform Company\"] = sales_data[\"Platform Company\"].replace([\"TG16\",\"PCFX\"],\"NEC\")\n",
    "sales_data[\"Platform Company\"].unique()"
   ]
  },
  {
   "cell_type": "code",
   "execution_count": 46,
   "id": "a49f2a14",
   "metadata": {},
   "outputs": [],
   "source": [
    "sales_data[\"Genre\"] = sales_data[\"Genre\"].replace([\"Sports\",\"Racing\"],\"Sports & Racing\")\n",
    "sales_data[\"Genre\"] = sales_data[\"Genre\"].replace([\"Puzzle\",\"Strategy\"],\"Puzzle & Strategy\")\n",
    "sales_data[\"Genre\"] = sales_data[\"Genre\"].replace([\"Platform\"],\"Adventure\")"
   ]
  },
  {
   "cell_type": "code",
   "execution_count": 47,
   "id": "caade49e",
   "metadata": {},
   "outputs": [
    {
     "data": {
      "text/plain": [
       "271"
      ]
     },
     "execution_count": 47,
     "metadata": {},
     "output_type": "execute_result"
    }
   ],
   "source": [
    "sales_data[\"Year\"].isnull().sum()"
   ]
  },
  {
   "cell_type": "code",
   "execution_count": 48,
   "id": "6e3a1d97",
   "metadata": {},
   "outputs": [],
   "source": [
    "#drop games with null year\n",
    "sales_data_clean = sales_data.dropna(subset=[\"Year\"]).copy()"
   ]
  },
  {
   "cell_type": "code",
   "execution_count": 49,
   "id": "fdf397cf",
   "metadata": {},
   "outputs": [],
   "source": [
    "sales_data_clean[\"Year\"] = sales_data_clean[\"Year\"].astype(int)"
   ]
  },
  {
   "cell_type": "code",
   "execution_count": 50,
   "id": "3fc68e54",
   "metadata": {},
   "outputs": [],
   "source": [
    "mask1 = sales_data_clean[sales_data_clean[\"Year\"] == 2016].index\n",
    "sales_data_clean.drop(mask1, inplace=True)"
   ]
  },
  {
   "cell_type": "code",
   "execution_count": 51,
   "id": "fe28eb7a",
   "metadata": {},
   "outputs": [],
   "source": [
    "mask2 = sales_data_clean[sales_data_clean[\"Year\"] == 2017].index\n",
    "sales_data_clean.drop(mask2, inplace=True)"
   ]
  },
  {
   "cell_type": "code",
   "execution_count": 52,
   "id": "f9f391fa",
   "metadata": {},
   "outputs": [],
   "source": [
    "mask3 = sales_data_clean[sales_data_clean[\"Year\"] == 2020].index\n",
    "sales_data_clean.drop(mask3, inplace=True)"
   ]
  },
  {
   "cell_type": "code",
   "execution_count": 53,
   "id": "fffeb89f",
   "metadata": {},
   "outputs": [],
   "source": [
    "genre_name = []\n",
    "\n",
    "for x in sales_data_clean[\"Genre\"]:\n",
    "    \n",
    "    if x not in genre_name:\n",
    "        genre_name.append(x)\n",
    "genre_name.sort()"
   ]
  },
  {
   "cell_type": "code",
   "execution_count": 55,
   "id": "6a455aa2",
   "metadata": {},
   "outputs": [],
   "source": [
    "bins = [1980, 1990, 2000, 2010, 2015]\n",
    "labels = [\"1980s\", \"1990s\", \"2000s\", \"2010s\"]\n",
    "\n",
    "sales_decade = sales_data_clean.copy()\n",
    "\n",
    "sales_decade[\"Decade\"] = pd.cut(sales_decade[\"Year\"],bins,labels)"
   ]
  },
  {
   "cell_type": "code",
   "execution_count": null,
   "id": "b61495aa",
   "metadata": {},
   "outputs": [],
   "source": [
    "gcolors = [\"#e60049\", \"#0bb4ff\", \"#50e991\", \"#e6d800\", \"#9b19f5\", \"#ffa300\", \"#dc0ab4\", \"#b3d4ff\", \"#00bfa0\"]"
   ]
  },
  {
   "cell_type": "code",
   "execution_count": null,
   "id": "c364b177",
   "metadata": {},
   "outputs": [],
   "source": [
    "sales_decade[\"Decade\"] = pd.cut(sales_decade[\"Year\"],bins=bins, labels=labels)\n",
    "sales_decade"
   ]
  },
  {
   "cell_type": "code",
   "execution_count": null,
   "id": "eb638a56",
   "metadata": {},
   "outputs": [],
   "source": [
    "decade = sales_decade.groupby([\"Decade\", \"Platform Company\", \"Genre\"]).size().reset_index()\n",
    "decade.columns = [\"Decade\", \"Platform Company\", \"Genre\", \"Count\"]\n",
    "decade"
   ]
  },
  {
   "cell_type": "code",
   "execution_count": null,
   "id": "9252c81a",
   "metadata": {},
   "outputs": [],
   "source": [
    "sub = decade.loc[(decade[\"Decade\"] == \"1980s\") & (decade[\"Platform Company\"] == \"Nintendo\")]\n",
    "sub"
   ]
  },
  {
   "cell_type": "code",
   "execution_count": null,
   "id": "7dcd44a6",
   "metadata": {},
   "outputs": [],
   "source": [
    "plt.figure(figsize=(10,6))\n",
    "plt.pie(sub.Count, labels = sub.Genre, colors= gcolors)\n",
    "plt.show()"
   ]
  }
 ],
 "metadata": {
  "kernelspec": {
   "display_name": "Python 3 (ipykernel)",
   "language": "python",
   "name": "python3"
  },
  "language_info": {
   "codemirror_mode": {
    "name": "ipython",
    "version": 3
   },
   "file_extension": ".py",
   "mimetype": "text/x-python",
   "name": "python",
   "nbconvert_exporter": "python",
   "pygments_lexer": "ipython3",
   "version": "3.10.9"
  }
 },
 "nbformat": 4,
 "nbformat_minor": 5
}
