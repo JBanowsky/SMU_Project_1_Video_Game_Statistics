{
 "cells": [
  {
   "cell_type": "code",
   "execution_count": 42,
   "id": "a4be25be",
   "metadata": {},
   "outputs": [],
   "source": [
    "# Dependencies and Setup\n",
    "import pandas as pd\n",
    "from pathlib import Path\n",
    "\n",
    "# File to Load (Remember to Change These)\n",
    "sales_csv = Path(\"Resources/vgsales.csv\")\n",
    "\n",
    "# Read School and Student Data File and store into Pandas DataFrames\n",
    "sales_data = pd.read_csv(sales_csv)\n",
    "\n"
   ]
  },
  {
   "cell_type": "code",
   "execution_count": 43,
   "id": "0e599355",
   "metadata": {},
   "outputs": [],
   "source": [
    "sales_data = sales_data.drop(columns=\"Rank\")"
   ]
  },
  {
   "cell_type": "code",
   "execution_count": 44,
   "id": "18a57a9e",
   "metadata": {},
   "outputs": [],
   "source": [
    "#Establish console maker\n",
    "sales_data['Platform Company'] = sales_data['Platform']"
   ]
  },
  {
   "cell_type": "code",
   "execution_count": 45,
   "id": "74abd451",
   "metadata": {},
   "outputs": [
    {
     "data": {
      "text/plain": [
       "array(['Nintendo', 'Microsoft', 'Sony', 'PC', 'Atari', 'Sega', 'BANDAI',\n",
       "       'SNK', 'NEC', '3DO'], dtype=object)"
      ]
     },
     "execution_count": 45,
     "metadata": {},
     "output_type": "execute_result"
    }
   ],
   "source": [
    "sales_data[\"Platform Company\"] = sales_data[\"Platform Company\"].replace([\"N64\",\"GC\",\"Wii\",\"WiiU\",\"NES\",\"GB\",\"DS\",\"SNES\",\"GBA\",\"3DS\"],\"Nintendo\")\n",
    "sales_data[\"Platform Company\"] = sales_data[\"Platform Company\"].replace([\"PS\",\"PS2\",\"PS3\",\"PSV\",\"PSP\",\"PS4\"],\"Sony\")\n",
    "sales_data[\"Platform Company\"] = sales_data[\"Platform Company\"].replace([\"XOne\",\"XB\",\"X360\"],\"Microsoft\")\n",
    "sales_data[\"Platform Company\"] = sales_data[\"Platform Company\"].replace([\"GG\",\"SAT\",\"Sega\",\"GEN\",\"SCD\",\"DC\"],\"Sega\")\n",
    "sales_data[\"Platform Company\"] = sales_data[\"Platform Company\"].replace([\"2600\"],\"Atari\")\n",
    "sales_data[\"Platform Company\"] = sales_data[\"Platform Company\"].replace([\"WS\"],\"BANDAI\")\n",
    "sales_data[\"Platform Company\"] = sales_data[\"Platform Company\"].replace([\"NG\"],\"SNK\")\n",
    "sales_data[\"Platform Company\"] = sales_data[\"Platform Company\"].replace([\"TG16\",\"PCFX\"],\"NEC\")\n",
    "sales_data[\"Platform Company\"].unique()"
   ]
  },
  {
   "cell_type": "code",
   "execution_count": 46,
   "id": "a49f2a14",
   "metadata": {},
   "outputs": [],
   "source": [
    "sales_data[\"Genre\"] = sales_data[\"Genre\"].replace([\"Sports\",\"Racing\"],\"Sports & Racing\")\n",
    "sales_data[\"Genre\"] = sales_data[\"Genre\"].replace([\"Puzzle\",\"Strategy\"],\"Puzzle & Strategy\")\n",
    "sales_data[\"Genre\"] = sales_data[\"Genre\"].replace([\"Platform\"],\"Adventure\")"
   ]
  },
  {
   "cell_type": "code",
   "execution_count": 47,
   "id": "caade49e",
   "metadata": {},
   "outputs": [
    {
     "data": {
      "text/plain": [
       "271"
      ]
     },
     "execution_count": 47,
     "metadata": {},
     "output_type": "execute_result"
    }
   ],
   "source": [
    "sales_data[\"Year\"].isnull().sum()"
   ]
  },
  {
   "cell_type": "code",
   "execution_count": 48,
   "id": "6e3a1d97",
   "metadata": {},
   "outputs": [],
   "source": [
    "#drop games with null year\n",
    "sales_data_clean = sales_data.dropna(subset=[\"Year\"]).copy()"
   ]
  },
  {
   "cell_type": "code",
   "execution_count": 49,
   "id": "fdf397cf",
   "metadata": {},
   "outputs": [],
   "source": [
    "sales_data_clean[\"Year\"] = sales_data_clean[\"Year\"].astype(int)"
   ]
  },
  {
   "cell_type": "code",
<<<<<<< HEAD
   "execution_count": 9,
   "id": "571f18d4",
   "metadata": {},
   "outputs": [
    {
     "data": {
      "text/html": [
       "<div>\n",
       "<style scoped>\n",
       "    .dataframe tbody tr th:only-of-type {\n",
       "        vertical-align: middle;\n",
       "    }\n",
       "\n",
       "    .dataframe tbody tr th {\n",
       "        vertical-align: top;\n",
       "    }\n",
       "\n",
       "    .dataframe thead th {\n",
       "        text-align: right;\n",
       "    }\n",
       "</style>\n",
       "<table border=\"1\" class=\"dataframe\">\n",
       "  <thead>\n",
       "    <tr style=\"text-align: right;\">\n",
       "      <th></th>\n",
       "      <th>Name</th>\n",
       "      <th>Platform</th>\n",
       "      <th>Year</th>\n",
       "      <th>Genre</th>\n",
       "      <th>Publisher</th>\n",
       "      <th>NA_Sales</th>\n",
       "      <th>EU_Sales</th>\n",
       "      <th>JP_Sales</th>\n",
       "      <th>Other_Sales</th>\n",
       "      <th>Global_Sales</th>\n",
       "      <th>Platform Company</th>\n",
       "    </tr>\n",
       "  </thead>\n",
       "  <tbody>\n",
       "    <tr>\n",
       "      <th>0</th>\n",
       "      <td>Wii Sports</td>\n",
       "      <td>Wii</td>\n",
       "      <td>2006</td>\n",
       "      <td>Sports</td>\n",
       "      <td>Nintendo</td>\n",
       "      <td>41.49</td>\n",
       "      <td>29.02</td>\n",
       "      <td>3.77</td>\n",
       "      <td>8.46</td>\n",
       "      <td>82.74</td>\n",
       "      <td>Nintendo</td>\n",
       "    </tr>\n",
       "    <tr>\n",
       "      <th>1</th>\n",
       "      <td>Super Mario Bros.</td>\n",
       "      <td>NES</td>\n",
       "      <td>1985</td>\n",
       "      <td>Platform</td>\n",
       "      <td>Nintendo</td>\n",
       "      <td>29.08</td>\n",
       "      <td>3.58</td>\n",
       "      <td>6.81</td>\n",
       "      <td>0.77</td>\n",
       "      <td>40.24</td>\n",
       "      <td>Nintendo</td>\n",
       "    </tr>\n",
       "    <tr>\n",
       "      <th>2</th>\n",
       "      <td>Mario Kart Wii</td>\n",
       "      <td>Wii</td>\n",
       "      <td>2008</td>\n",
       "      <td>Racing</td>\n",
       "      <td>Nintendo</td>\n",
       "      <td>15.85</td>\n",
       "      <td>12.88</td>\n",
       "      <td>3.79</td>\n",
       "      <td>3.31</td>\n",
       "      <td>35.82</td>\n",
       "      <td>Nintendo</td>\n",
       "    </tr>\n",
       "    <tr>\n",
       "      <th>3</th>\n",
       "      <td>Wii Sports Resort</td>\n",
       "      <td>Wii</td>\n",
       "      <td>2009</td>\n",
       "      <td>Sports</td>\n",
       "      <td>Nintendo</td>\n",
       "      <td>15.75</td>\n",
       "      <td>11.01</td>\n",
       "      <td>3.28</td>\n",
       "      <td>2.96</td>\n",
       "      <td>33.00</td>\n",
       "      <td>Nintendo</td>\n",
       "    </tr>\n",
       "    <tr>\n",
       "      <th>4</th>\n",
       "      <td>Pokemon Red/Pokemon Blue</td>\n",
       "      <td>GB</td>\n",
       "      <td>1996</td>\n",
       "      <td>Role-Playing</td>\n",
       "      <td>Nintendo</td>\n",
       "      <td>11.27</td>\n",
       "      <td>8.89</td>\n",
       "      <td>10.22</td>\n",
       "      <td>1.00</td>\n",
       "      <td>31.37</td>\n",
       "      <td>Nintendo</td>\n",
       "    </tr>\n",
       "    <tr>\n",
       "      <th>...</th>\n",
       "      <td>...</td>\n",
       "      <td>...</td>\n",
       "      <td>...</td>\n",
       "      <td>...</td>\n",
       "      <td>...</td>\n",
       "      <td>...</td>\n",
       "      <td>...</td>\n",
       "      <td>...</td>\n",
       "      <td>...</td>\n",
       "      <td>...</td>\n",
       "      <td>...</td>\n",
       "    </tr>\n",
       "    <tr>\n",
       "      <th>16593</th>\n",
       "      <td>Woody Woodpecker in Crazy Castle 5</td>\n",
       "      <td>GBA</td>\n",
       "      <td>2002</td>\n",
       "      <td>Platform</td>\n",
       "      <td>Kemco</td>\n",
       "      <td>0.01</td>\n",
       "      <td>0.00</td>\n",
       "      <td>0.00</td>\n",
       "      <td>0.00</td>\n",
       "      <td>0.01</td>\n",
       "      <td>Nintendo</td>\n",
       "    </tr>\n",
       "    <tr>\n",
       "      <th>16594</th>\n",
       "      <td>Men in Black II: Alien Escape</td>\n",
       "      <td>GC</td>\n",
       "      <td>2003</td>\n",
       "      <td>Shooter</td>\n",
       "      <td>Infogrames</td>\n",
       "      <td>0.01</td>\n",
       "      <td>0.00</td>\n",
       "      <td>0.00</td>\n",
       "      <td>0.00</td>\n",
       "      <td>0.01</td>\n",
       "      <td>Nintendo</td>\n",
       "    </tr>\n",
       "    <tr>\n",
       "      <th>16595</th>\n",
       "      <td>SCORE International Baja 1000: The Official Game</td>\n",
       "      <td>PS2</td>\n",
       "      <td>2008</td>\n",
       "      <td>Racing</td>\n",
       "      <td>Activision</td>\n",
       "      <td>0.00</td>\n",
       "      <td>0.00</td>\n",
       "      <td>0.00</td>\n",
       "      <td>0.00</td>\n",
       "      <td>0.01</td>\n",
       "      <td>Sony</td>\n",
       "    </tr>\n",
       "    <tr>\n",
       "      <th>16596</th>\n",
       "      <td>Know How 2</td>\n",
       "      <td>DS</td>\n",
       "      <td>2010</td>\n",
       "      <td>Puzzle</td>\n",
       "      <td>7G//AMES</td>\n",
       "      <td>0.00</td>\n",
       "      <td>0.01</td>\n",
       "      <td>0.00</td>\n",
       "      <td>0.00</td>\n",
       "      <td>0.01</td>\n",
       "      <td>Nintendo</td>\n",
       "    </tr>\n",
       "    <tr>\n",
       "      <th>16597</th>\n",
       "      <td>Spirits &amp; Spells</td>\n",
       "      <td>GBA</td>\n",
       "      <td>2003</td>\n",
       "      <td>Platform</td>\n",
       "      <td>Wanadoo</td>\n",
       "      <td>0.01</td>\n",
       "      <td>0.00</td>\n",
       "      <td>0.00</td>\n",
       "      <td>0.00</td>\n",
       "      <td>0.01</td>\n",
       "      <td>Nintendo</td>\n",
       "    </tr>\n",
       "  </tbody>\n",
       "</table>\n",
       "<p>16327 rows × 11 columns</p>\n",
       "</div>"
      ],
      "text/plain": [
       "                                                   Name Platform  Year  \\\n",
       "0                                            Wii Sports      Wii  2006   \n",
       "1                                     Super Mario Bros.      NES  1985   \n",
       "2                                        Mario Kart Wii      Wii  2008   \n",
       "3                                     Wii Sports Resort      Wii  2009   \n",
       "4                              Pokemon Red/Pokemon Blue       GB  1996   \n",
       "...                                                 ...      ...   ...   \n",
       "16593                Woody Woodpecker in Crazy Castle 5      GBA  2002   \n",
       "16594                     Men in Black II: Alien Escape       GC  2003   \n",
       "16595  SCORE International Baja 1000: The Official Game      PS2  2008   \n",
       "16596                                        Know How 2       DS  2010   \n",
       "16597                                  Spirits & Spells      GBA  2003   \n",
       "\n",
       "              Genre   Publisher  NA_Sales  EU_Sales  JP_Sales  Other_Sales  \\\n",
       "0            Sports    Nintendo     41.49     29.02      3.77         8.46   \n",
       "1          Platform    Nintendo     29.08      3.58      6.81         0.77   \n",
       "2            Racing    Nintendo     15.85     12.88      3.79         3.31   \n",
       "3            Sports    Nintendo     15.75     11.01      3.28         2.96   \n",
       "4      Role-Playing    Nintendo     11.27      8.89     10.22         1.00   \n",
       "...             ...         ...       ...       ...       ...          ...   \n",
       "16593      Platform       Kemco      0.01      0.00      0.00         0.00   \n",
       "16594       Shooter  Infogrames      0.01      0.00      0.00         0.00   \n",
       "16595        Racing  Activision      0.00      0.00      0.00         0.00   \n",
       "16596        Puzzle    7G//AMES      0.00      0.01      0.00         0.00   \n",
       "16597      Platform     Wanadoo      0.01      0.00      0.00         0.00   \n",
       "\n",
       "       Global_Sales Platform Company  \n",
       "0             82.74         Nintendo  \n",
       "1             40.24         Nintendo  \n",
       "2             35.82         Nintendo  \n",
       "3             33.00         Nintendo  \n",
       "4             31.37         Nintendo  \n",
       "...             ...              ...  \n",
       "16593          0.01         Nintendo  \n",
       "16594          0.01         Nintendo  \n",
       "16595          0.01             Sony  \n",
       "16596          0.01         Nintendo  \n",
       "16597          0.01         Nintendo  \n",
       "\n",
       "[16327 rows x 11 columns]"
      ]
     },
     "execution_count": 9,
     "metadata": {},
     "output_type": "execute_result"
    }
   ],
   "source": [
    "sales_data_clean"
   ]
  },
  {
   "cell_type": "code",
   "execution_count": 10,
=======
   "execution_count": 50,
>>>>>>> main
   "id": "3fc68e54",
   "metadata": {},
   "outputs": [],
   "source": [
    "mask1 = sales_data_clean[sales_data_clean[\"Year\"] == 2016].index\n",
    "sales_data_clean.drop(mask1, inplace=True)"
   ]
  },
  {
   "cell_type": "code",
<<<<<<< HEAD
   "execution_count": 11,
=======
   "execution_count": 51,
>>>>>>> main
   "id": "fe28eb7a",
   "metadata": {},
   "outputs": [],
   "source": [
    "mask2 = sales_data_clean[sales_data_clean[\"Year\"] == 2017].index\n",
    "sales_data_clean.drop(mask2, inplace=True)"
   ]
  },
  {
   "cell_type": "code",
<<<<<<< HEAD
   "execution_count": 12,
=======
   "execution_count": 52,
>>>>>>> main
   "id": "f9f391fa",
   "metadata": {},
   "outputs": [],
   "source": [
    "mask3 = sales_data_clean[sales_data_clean[\"Year\"] == 2020].index\n",
    "sales_data_clean.drop(mask3, inplace=True)"
   ]
  },
  {
   "cell_type": "code",
<<<<<<< HEAD
   "execution_count": 13,
   "id": "fffeb89f",
   "metadata": {},
   "outputs": [
    {
     "data": {
      "text/html": [
       "<div>\n",
       "<style scoped>\n",
       "    .dataframe tbody tr th:only-of-type {\n",
       "        vertical-align: middle;\n",
       "    }\n",
       "\n",
       "    .dataframe tbody tr th {\n",
       "        vertical-align: top;\n",
       "    }\n",
       "\n",
       "    .dataframe thead th {\n",
       "        text-align: right;\n",
       "    }\n",
       "</style>\n",
       "<table border=\"1\" class=\"dataframe\">\n",
       "  <thead>\n",
       "    <tr style=\"text-align: right;\">\n",
       "      <th></th>\n",
       "      <th>Name</th>\n",
       "      <th>Platform</th>\n",
       "      <th>Year</th>\n",
       "      <th>Genre</th>\n",
       "      <th>Publisher</th>\n",
       "      <th>NA_Sales</th>\n",
       "      <th>EU_Sales</th>\n",
       "      <th>JP_Sales</th>\n",
       "      <th>Other_Sales</th>\n",
       "      <th>Global_Sales</th>\n",
       "      <th>Platform Company</th>\n",
       "    </tr>\n",
       "  </thead>\n",
       "  <tbody>\n",
       "    <tr>\n",
       "      <th>0</th>\n",
       "      <td>Wii Sports</td>\n",
       "      <td>Wii</td>\n",
       "      <td>2006</td>\n",
       "      <td>Sports</td>\n",
       "      <td>Nintendo</td>\n",
       "      <td>41.49</td>\n",
       "      <td>29.02</td>\n",
       "      <td>3.77</td>\n",
       "      <td>8.46</td>\n",
       "      <td>82.74</td>\n",
       "      <td>Nintendo</td>\n",
       "    </tr>\n",
       "    <tr>\n",
       "      <th>1</th>\n",
       "      <td>Super Mario Bros.</td>\n",
       "      <td>NES</td>\n",
       "      <td>1985</td>\n",
       "      <td>Platform</td>\n",
       "      <td>Nintendo</td>\n",
       "      <td>29.08</td>\n",
       "      <td>3.58</td>\n",
       "      <td>6.81</td>\n",
       "      <td>0.77</td>\n",
       "      <td>40.24</td>\n",
       "      <td>Nintendo</td>\n",
       "    </tr>\n",
       "    <tr>\n",
       "      <th>2</th>\n",
       "      <td>Mario Kart Wii</td>\n",
       "      <td>Wii</td>\n",
       "      <td>2008</td>\n",
       "      <td>Racing</td>\n",
       "      <td>Nintendo</td>\n",
       "      <td>15.85</td>\n",
       "      <td>12.88</td>\n",
       "      <td>3.79</td>\n",
       "      <td>3.31</td>\n",
       "      <td>35.82</td>\n",
       "      <td>Nintendo</td>\n",
       "    </tr>\n",
       "    <tr>\n",
       "      <th>3</th>\n",
       "      <td>Wii Sports Resort</td>\n",
       "      <td>Wii</td>\n",
       "      <td>2009</td>\n",
       "      <td>Sports</td>\n",
       "      <td>Nintendo</td>\n",
       "      <td>15.75</td>\n",
       "      <td>11.01</td>\n",
       "      <td>3.28</td>\n",
       "      <td>2.96</td>\n",
       "      <td>33.00</td>\n",
       "      <td>Nintendo</td>\n",
       "    </tr>\n",
       "    <tr>\n",
       "      <th>4</th>\n",
       "      <td>Pokemon Red/Pokemon Blue</td>\n",
       "      <td>GB</td>\n",
       "      <td>1996</td>\n",
       "      <td>Role-Playing</td>\n",
       "      <td>Nintendo</td>\n",
       "      <td>11.27</td>\n",
       "      <td>8.89</td>\n",
       "      <td>10.22</td>\n",
       "      <td>1.00</td>\n",
       "      <td>31.37</td>\n",
       "      <td>Nintendo</td>\n",
       "    </tr>\n",
       "  </tbody>\n",
       "</table>\n",
       "</div>"
      ],
      "text/plain": [
       "                       Name Platform  Year         Genre Publisher  NA_Sales  \\\n",
       "0                Wii Sports      Wii  2006        Sports  Nintendo     41.49   \n",
       "1         Super Mario Bros.      NES  1985      Platform  Nintendo     29.08   \n",
       "2            Mario Kart Wii      Wii  2008        Racing  Nintendo     15.85   \n",
       "3         Wii Sports Resort      Wii  2009        Sports  Nintendo     15.75   \n",
       "4  Pokemon Red/Pokemon Blue       GB  1996  Role-Playing  Nintendo     11.27   \n",
       "\n",
       "   EU_Sales  JP_Sales  Other_Sales  Global_Sales Platform Company  \n",
       "0     29.02      3.77         8.46         82.74         Nintendo  \n",
       "1      3.58      6.81         0.77         40.24         Nintendo  \n",
       "2     12.88      3.79         3.31         35.82         Nintendo  \n",
       "3     11.01      3.28         2.96         33.00         Nintendo  \n",
       "4      8.89     10.22         1.00         31.37         Nintendo  "
      ]
     },
     "execution_count": 13,
     "metadata": {},
     "output_type": "execute_result"
    }
   ],
=======
   "execution_count": 53,
   "id": "fffeb89f",
   "metadata": {},
   "outputs": [],
   "source": [
    "genre_name = []\n",
    "\n",
    "for x in sales_data_clean[\"Genre\"]:\n",
    "    \n",
    "    if x not in genre_name:\n",
    "        genre_name.append(x)\n",
    "genre_name.sort()"
   ]
  },
  {
   "cell_type": "code",
   "execution_count": 55,
   "id": "6a455aa2",
   "metadata": {},
   "outputs": [],
>>>>>>> main
   "source": [
    "bins = [1980, 1990, 2000, 2010, 2015]\n",
    "labels = [\"1980s\", \"1990s\", \"2000s\", \"2010s\"]\n",
    "\n",
    "sales_decade = sales_data_clean.copy()\n",
    "\n",
    "sales_decade[\"Decade\"] = pd.cut(sales_decade[\"Year\"],bins,labels)"
   ]
  },
  {
   "cell_type": "code",
   "execution_count": null,
   "id": "b61495aa",
   "metadata": {},
   "outputs": [],
   "source": [
    "gcolors = [\"#e60049\", \"#0bb4ff\", \"#50e991\", \"#e6d800\", \"#9b19f5\", \"#ffa300\", \"#dc0ab4\", \"#b3d4ff\", \"#00bfa0\"]"
   ]
  },
  {
   "cell_type": "code",
   "execution_count": null,
   "id": "c364b177",
   "metadata": {},
   "outputs": [],
   "source": [
    "sales_decade[\"Decade\"] = pd.cut(sales_decade[\"Year\"],bins=bins, labels=labels)\n",
    "sales_decade"
   ]
  },
  {
   "cell_type": "code",
   "execution_count": null,
   "id": "eb638a56",
   "metadata": {},
   "outputs": [],
   "source": [
    "decade = sales_decade.groupby([\"Decade\", \"Platform Company\", \"Genre\"]).size().reset_index()\n",
    "decade.columns = [\"Decade\", \"Platform Company\", \"Genre\", \"Count\"]\n",
    "decade"
   ]
  },
  {
   "cell_type": "code",
   "execution_count": null,
   "id": "9252c81a",
   "metadata": {},
   "outputs": [],
   "source": [
    "sub = decade.loc[(decade[\"Decade\"] == \"1980s\") & (decade[\"Platform Company\"] == \"Nintendo\")]\n",
    "sub"
   ]
  },
  {
   "cell_type": "code",
   "execution_count": null,
   "id": "7dcd44a6",
   "metadata": {},
   "outputs": [],
   "source": [
    "plt.figure(figsize=(10,6))\n",
    "plt.pie(sub.Count, labels = sub.Genre, colors= gcolors)\n",
    "plt.show()"
   ]
  }
 ],
 "metadata": {
  "kernelspec": {
   "display_name": "Python 3 (ipykernel)",
   "language": "python",
   "name": "python3"
  },
  "language_info": {
   "codemirror_mode": {
    "name": "ipython",
    "version": 3
   },
   "file_extension": ".py",
   "mimetype": "text/x-python",
   "name": "python",
   "nbconvert_exporter": "python",
   "pygments_lexer": "ipython3",
   "version": "3.10.9"
  }
 },
 "nbformat": 4,
 "nbformat_minor": 5
}
