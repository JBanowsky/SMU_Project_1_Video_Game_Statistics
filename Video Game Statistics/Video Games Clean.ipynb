{
 "cells": [
  {
   "cell_type": "code",
   "execution_count": 42,
   "id": "a4be25be",
   "metadata": {},
   "outputs": [],
   "source": [
    "# Dependencies and Setup\n",
    "import pandas as pd\n",
    "from pathlib import Path\n",
    "\n",
    "# File to Load (Remember to Change These)\n",
    "sales_csv = Path(\"Resources/vgsales.csv\")\n",
    "\n",
    "# Read School and Student Data File and store into Pandas DataFrames\n",
    "sales_data = pd.read_csv(sales_csv)\n",
    "\n"
   ]
  },
  {
   "cell_type": "code",
   "execution_count": 43,
   "id": "0e599355",
   "metadata": {},
   "outputs": [],
   "source": [
    "sales_data = sales_data.drop(columns=\"Rank\")"
   ]
  },
  {
   "cell_type": "code",
   "execution_count": 44,
   "id": "18a57a9e",
   "metadata": {},
   "outputs": [],
   "source": [
    "#Establish console maker\n",
    "sales_data['Platform Company'] = sales_data['Platform']"
   ]
  },
  {
   "cell_type": "code",
   "execution_count": 45,
   "id": "74abd451",
   "metadata": {},
   "outputs": [
    {
     "data": {
      "text/plain": [
       "array(['Nintendo', 'Microsoft', 'Sony', 'PC', 'Atari', 'Sega', 'BANDAI',\n",
       "       'SNK', 'NEC', '3DO'], dtype=object)"
      ]
     },
     "execution_count": 45,
     "metadata": {},
     "output_type": "execute_result"
    }
   ],
   "source": [
    "sales_data[\"Platform Company\"] = sales_data[\"Platform Company\"].replace([\"N64\",\"GC\",\"Wii\",\"WiiU\",\"NES\",\"GB\",\"DS\",\"SNES\",\"GBA\",\"3DS\"],\"Nintendo\")\n",
    "sales_data[\"Platform Company\"] = sales_data[\"Platform Company\"].replace([\"PS\",\"PS2\",\"PS3\",\"PSV\",\"PSP\",\"PS4\"],\"Sony\")\n",
    "sales_data[\"Platform Company\"] = sales_data[\"Platform Company\"].replace([\"XOne\",\"XB\",\"X360\"],\"Microsoft\")\n",
    "sales_data[\"Platform Company\"] = sales_data[\"Platform Company\"].replace([\"GG\",\"SAT\",\"Sega\",\"GEN\",\"SCD\",\"DC\"],\"Sega\")\n",
    "sales_data[\"Platform Company\"] = sales_data[\"Platform Company\"].replace([\"2600\"],\"Atari\")\n",
    "sales_data[\"Platform Company\"] = sales_data[\"Platform Company\"].replace([\"WS\"],\"BANDAI\")\n",
    "sales_data[\"Platform Company\"] = sales_data[\"Platform Company\"].replace([\"NG\"],\"SNK\")\n",
    "sales_data[\"Platform Company\"] = sales_data[\"Platform Company\"].replace([\"TG16\",\"PCFX\"],\"NEC\")\n",
    "sales_data[\"Platform Company\"].unique()"
   ]
  },
  {
   "cell_type": "code",
   "execution_count": 46,
   "id": "a49f2a14",
   "metadata": {},
   "outputs": [],
   "source": [
    "sales_data[\"Genre\"] = sales_data[\"Genre\"].replace([\"Sports\",\"Racing\"],\"Sports & Racing\")\n",
    "sales_data[\"Genre\"] = sales_data[\"Genre\"].replace([\"Puzzle\",\"Strategy\"],\"Puzzle & Strategy\")\n",
    "sales_data[\"Genre\"] = sales_data[\"Genre\"].replace([\"Platform\"],\"Adventure\")"
   ]
  },
  {
   "cell_type": "code",
   "execution_count": 47,
   "id": "caade49e",
   "metadata": {},
   "outputs": [
    {
     "data": {
      "text/plain": [
       "271"
      ]
     },
     "execution_count": 47,
     "metadata": {},
     "output_type": "execute_result"
    }
   ],
   "source": [
    "sales_data[\"Year\"].isnull().sum()"
   ]
  },
  {
   "cell_type": "code",
   "execution_count": 48,
   "id": "6e3a1d97",
   "metadata": {},
   "outputs": [],
   "source": [
    "#drop games with null year\n",
    "sales_data_clean = sales_data.dropna(subset=[\"Year\"]).copy()"
   ]
  },
  {
   "cell_type": "code",
   "execution_count": 49,
   "id": "fdf397cf",
   "metadata": {},
   "outputs": [],
   "source": [
    "sales_data_clean[\"Year\"] = sales_data_clean[\"Year\"].astype(int)"
   ]
  },
  {
   "cell_type": "code",
   "execution_count": 50,
   "id": "3fc68e54",
   "metadata": {},
   "outputs": [],
   "source": [
    "mask1 = sales_data_clean[sales_data_clean[\"Year\"] == 2016].index\n",
    "sales_data_clean.drop(mask1, inplace=True)"
   ]
  },
  {
   "cell_type": "code",
   "execution_count": 51,
   "id": "fe28eb7a",
   "metadata": {},
   "outputs": [],
   "source": [
    "mask2 = sales_data_clean[sales_data_clean[\"Year\"] == 2017].index\n",
    "sales_data_clean.drop(mask2, inplace=True)"
   ]
  },
  {
   "cell_type": "code",
   "execution_count": 52,
   "id": "f9f391fa",
   "metadata": {},
   "outputs": [],
   "source": [
    "mask3 = sales_data_clean[sales_data_clean[\"Year\"] == 2020].index\n",
    "sales_data_clean.drop(mask3, inplace=True)"
   ]
  },
  {
   "cell_type": "code",
   "execution_count": 53,
   "id": "fffeb89f",
   "metadata": {},
   "outputs": [],
   "source": [
    "genre_name = []\n",
    "\n",
    "for x in sales_data_clean[\"Genre\"]:\n",
    "    \n",
    "    if x not in genre_name:\n",
    "        genre_name.append(x)\n",
    "genre_name.sort()"
   ]
  },
  {
   "cell_type": "code",
   "execution_count": 55,
   "id": "6a455aa2",
   "metadata": {},
   "outputs": [],
   "source": [
    "bins = [1980, 1990, 2000, 2010]\n",
    "labels = [\"1980s\", \"1990s\", \"2000s\", \"2010s\"]\n",
    "\n",
    "sales_decade = sales_data_clean.copy()\n",
    "\n",
    "sales_decade[\"Decade\"] = pd.cut(sales_decade[\"Year\"],bins,labels)"
   ]
  },
  {
   "cell_type": "code",
   "execution_count": null,
   "id": "b61495aa",
   "metadata": {},
   "outputs": [],
   "source": []
  }
 ],
 "metadata": {
  "kernelspec": {
   "display_name": "Python 3 (ipykernel)",
   "language": "python",
   "name": "python3"
  },
  "language_info": {
   "codemirror_mode": {
    "name": "ipython",
    "version": 3
   },
   "file_extension": ".py",
   "mimetype": "text/x-python",
   "name": "python",
   "nbconvert_exporter": "python",
   "pygments_lexer": "ipython3",
   "version": "3.10.9"
  }
 },
 "nbformat": 4,
 "nbformat_minor": 5
}
